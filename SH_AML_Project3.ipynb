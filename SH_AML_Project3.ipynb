{
 "cells": [
  {
   "cell_type": "markdown",
   "metadata": {
    "id": "mkiYBKTBFV-Z"
   },
   "source": [
    "## Project 3\n",
    "### Part 1: Imbalanced Dataset\n",
    "\n",
    "Working with an imbalanced Dataset. The dataset is Credit Card Fraud Detection dataset which was hosted on Kaggle. The aim is to detect fraudlent transactions."
   ]
  },
  {
   "cell_type": "markdown",
   "metadata": {
    "id": "yCpeRNO9GjyP"
   },
   "source": [
    "### Setup"
   ]
  },
  {
   "cell_type": "code",
   "execution_count": 2,
   "metadata": {
    "id": "UB0aoX-eGX0X"
   },
   "outputs": [],
   "source": [
    "import numpy as np\n",
    "import pandas as pd\n",
    "import matplotlib.pyplot as plt\n",
    "import seaborn as sns\n"
   ]
  },
  {
   "cell_type": "code",
   "execution_count": 3,
   "metadata": {
    "id": "f25EsV59GmeU"
   },
   "outputs": [],
   "source": [
    "# Feel free to import any other packages you'd like to\n",
    "from sklearn.model_selection import train_test_split # Import train_test_split function\n",
    "from sklearn.preprocessing import StandardScaler, MinMaxScaler\n",
    "from sklearn.tree import DecisionTreeClassifier # Import Decision Tree Classifier\n",
    "from sklearn.metrics import average_precision_score\n",
    "from sklearn.model_selection import cross_val_score\n",
    "from sklearn.model_selection import cross_validate\n",
    "from sklearn.metrics import plot_confusion_matrix\n",
    "from imblearn.over_sampling import SMOTE \n",
    "from imblearn.under_sampling import RandomUnderSampler \n",
    "from sklearn import metrics\n"
   ]
  },
  {
   "cell_type": "markdown",
   "metadata": {
    "id": "s6DdcyXWGtHm"
   },
   "source": [
    "### **Data Preprocessing and Exploration**\n",
    "Download the Kaggle Credit Card Fraud data set. Features V1, V2, … V28 are the principal components obtained with PCA, the only features which have not been transformed with PCA are 'Time' and 'Amount'. Feature 'Time' contains the seconds elapsed between each transaction and the first transaction in the dataset. The feature 'Amount' is the transaction Amount, this feature can be used for example-dependant cost-sensitive learning. Feature 'Class' is the response variable and it takes value 1 in case of fraud and 0 otherwise."
   ]
  },
  {
   "cell_type": "code",
   "execution_count": 4,
   "metadata": {
    "colab": {
     "base_uri": "https://localhost:8080/",
     "height": 300
    },
    "id": "gzbL79SLGwTc",
    "outputId": "a7334725-a6ff-41ab-a78f-fbd79053352b"
   },
   "outputs": [
    {
     "data": {
      "text/html": [
       "<div>\n",
       "<style scoped>\n",
       "    .dataframe tbody tr th:only-of-type {\n",
       "        vertical-align: middle;\n",
       "    }\n",
       "\n",
       "    .dataframe tbody tr th {\n",
       "        vertical-align: top;\n",
       "    }\n",
       "\n",
       "    .dataframe thead th {\n",
       "        text-align: right;\n",
       "    }\n",
       "</style>\n",
       "<table border=\"1\" class=\"dataframe\">\n",
       "  <thead>\n",
       "    <tr style=\"text-align: right;\">\n",
       "      <th></th>\n",
       "      <th>Time</th>\n",
       "      <th>V1</th>\n",
       "      <th>V2</th>\n",
       "      <th>V3</th>\n",
       "      <th>V4</th>\n",
       "      <th>V5</th>\n",
       "      <th>V6</th>\n",
       "      <th>V7</th>\n",
       "      <th>V8</th>\n",
       "      <th>V9</th>\n",
       "      <th>...</th>\n",
       "      <th>V21</th>\n",
       "      <th>V22</th>\n",
       "      <th>V23</th>\n",
       "      <th>V24</th>\n",
       "      <th>V25</th>\n",
       "      <th>V26</th>\n",
       "      <th>V27</th>\n",
       "      <th>V28</th>\n",
       "      <th>Amount</th>\n",
       "      <th>Class</th>\n",
       "    </tr>\n",
       "  </thead>\n",
       "  <tbody>\n",
       "    <tr>\n",
       "      <th>0</th>\n",
       "      <td>0.0</td>\n",
       "      <td>-1.359807</td>\n",
       "      <td>-0.072781</td>\n",
       "      <td>2.536347</td>\n",
       "      <td>1.378155</td>\n",
       "      <td>-0.338321</td>\n",
       "      <td>0.462388</td>\n",
       "      <td>0.239599</td>\n",
       "      <td>0.098698</td>\n",
       "      <td>0.363787</td>\n",
       "      <td>...</td>\n",
       "      <td>-0.018307</td>\n",
       "      <td>0.277838</td>\n",
       "      <td>-0.110474</td>\n",
       "      <td>0.066928</td>\n",
       "      <td>0.128539</td>\n",
       "      <td>-0.189115</td>\n",
       "      <td>0.133558</td>\n",
       "      <td>-0.021053</td>\n",
       "      <td>149.62</td>\n",
       "      <td>0</td>\n",
       "    </tr>\n",
       "    <tr>\n",
       "      <th>1</th>\n",
       "      <td>0.0</td>\n",
       "      <td>1.191857</td>\n",
       "      <td>0.266151</td>\n",
       "      <td>0.166480</td>\n",
       "      <td>0.448154</td>\n",
       "      <td>0.060018</td>\n",
       "      <td>-0.082361</td>\n",
       "      <td>-0.078803</td>\n",
       "      <td>0.085102</td>\n",
       "      <td>-0.255425</td>\n",
       "      <td>...</td>\n",
       "      <td>-0.225775</td>\n",
       "      <td>-0.638672</td>\n",
       "      <td>0.101288</td>\n",
       "      <td>-0.339846</td>\n",
       "      <td>0.167170</td>\n",
       "      <td>0.125895</td>\n",
       "      <td>-0.008983</td>\n",
       "      <td>0.014724</td>\n",
       "      <td>2.69</td>\n",
       "      <td>0</td>\n",
       "    </tr>\n",
       "    <tr>\n",
       "      <th>2</th>\n",
       "      <td>1.0</td>\n",
       "      <td>-1.358354</td>\n",
       "      <td>-1.340163</td>\n",
       "      <td>1.773209</td>\n",
       "      <td>0.379780</td>\n",
       "      <td>-0.503198</td>\n",
       "      <td>1.800499</td>\n",
       "      <td>0.791461</td>\n",
       "      <td>0.247676</td>\n",
       "      <td>-1.514654</td>\n",
       "      <td>...</td>\n",
       "      <td>0.247998</td>\n",
       "      <td>0.771679</td>\n",
       "      <td>0.909412</td>\n",
       "      <td>-0.689281</td>\n",
       "      <td>-0.327642</td>\n",
       "      <td>-0.139097</td>\n",
       "      <td>-0.055353</td>\n",
       "      <td>-0.059752</td>\n",
       "      <td>378.66</td>\n",
       "      <td>0</td>\n",
       "    </tr>\n",
       "    <tr>\n",
       "      <th>3</th>\n",
       "      <td>1.0</td>\n",
       "      <td>-0.966272</td>\n",
       "      <td>-0.185226</td>\n",
       "      <td>1.792993</td>\n",
       "      <td>-0.863291</td>\n",
       "      <td>-0.010309</td>\n",
       "      <td>1.247203</td>\n",
       "      <td>0.237609</td>\n",
       "      <td>0.377436</td>\n",
       "      <td>-1.387024</td>\n",
       "      <td>...</td>\n",
       "      <td>-0.108300</td>\n",
       "      <td>0.005274</td>\n",
       "      <td>-0.190321</td>\n",
       "      <td>-1.175575</td>\n",
       "      <td>0.647376</td>\n",
       "      <td>-0.221929</td>\n",
       "      <td>0.062723</td>\n",
       "      <td>0.061458</td>\n",
       "      <td>123.50</td>\n",
       "      <td>0</td>\n",
       "    </tr>\n",
       "    <tr>\n",
       "      <th>4</th>\n",
       "      <td>2.0</td>\n",
       "      <td>-1.158233</td>\n",
       "      <td>0.877737</td>\n",
       "      <td>1.548718</td>\n",
       "      <td>0.403034</td>\n",
       "      <td>-0.407193</td>\n",
       "      <td>0.095921</td>\n",
       "      <td>0.592941</td>\n",
       "      <td>-0.270533</td>\n",
       "      <td>0.817739</td>\n",
       "      <td>...</td>\n",
       "      <td>-0.009431</td>\n",
       "      <td>0.798278</td>\n",
       "      <td>-0.137458</td>\n",
       "      <td>0.141267</td>\n",
       "      <td>-0.206010</td>\n",
       "      <td>0.502292</td>\n",
       "      <td>0.219422</td>\n",
       "      <td>0.215153</td>\n",
       "      <td>69.99</td>\n",
       "      <td>0</td>\n",
       "    </tr>\n",
       "  </tbody>\n",
       "</table>\n",
       "<p>5 rows × 31 columns</p>\n",
       "</div>"
      ],
      "text/plain": [
       "   Time        V1        V2        V3        V4        V5        V6        V7  \\\n",
       "0   0.0 -1.359807 -0.072781  2.536347  1.378155 -0.338321  0.462388  0.239599   \n",
       "1   0.0  1.191857  0.266151  0.166480  0.448154  0.060018 -0.082361 -0.078803   \n",
       "2   1.0 -1.358354 -1.340163  1.773209  0.379780 -0.503198  1.800499  0.791461   \n",
       "3   1.0 -0.966272 -0.185226  1.792993 -0.863291 -0.010309  1.247203  0.237609   \n",
       "4   2.0 -1.158233  0.877737  1.548718  0.403034 -0.407193  0.095921  0.592941   \n",
       "\n",
       "         V8        V9  ...       V21       V22       V23       V24       V25  \\\n",
       "0  0.098698  0.363787  ... -0.018307  0.277838 -0.110474  0.066928  0.128539   \n",
       "1  0.085102 -0.255425  ... -0.225775 -0.638672  0.101288 -0.339846  0.167170   \n",
       "2  0.247676 -1.514654  ...  0.247998  0.771679  0.909412 -0.689281 -0.327642   \n",
       "3  0.377436 -1.387024  ... -0.108300  0.005274 -0.190321 -1.175575  0.647376   \n",
       "4 -0.270533  0.817739  ... -0.009431  0.798278 -0.137458  0.141267 -0.206010   \n",
       "\n",
       "        V26       V27       V28  Amount  Class  \n",
       "0 -0.189115  0.133558 -0.021053  149.62      0  \n",
       "1  0.125895 -0.008983  0.014724    2.69      0  \n",
       "2 -0.139097 -0.055353 -0.059752  378.66      0  \n",
       "3 -0.221929  0.062723  0.061458  123.50      0  \n",
       "4  0.502292  0.219422  0.215153   69.99      0  \n",
       "\n",
       "[5 rows x 31 columns]"
      ]
     },
     "execution_count": 4,
     "metadata": {},
     "output_type": "execute_result"
    }
   ],
   "source": [
    "raw_df = pd.read_csv('https://storage.googleapis.com/download.tensorflow.org/data/creditcard.csv')\n",
    "raw_df.head()\n"
   ]
  },
  {
   "cell_type": "markdown",
   "metadata": {
    "id": "f7iaHyCqG6lk"
   },
   "source": [
    "#### **1.1 Examining the class Imbalance**"
   ]
  },
  {
   "cell_type": "code",
   "execution_count": 5,
   "metadata": {
    "id": "BXv6y3-SG1JJ"
   },
   "outputs": [
    {
     "name": "stdout",
     "output_type": "stream",
     "text": [
      "# of observations in this dataset: 284807\n",
      "# of positive labels: 492\n",
      "# of negative labels: 284315\n"
     ]
    }
   ],
   "source": [
    "## observations in this dataset\n",
    "print(\"# of observations in this dataset:\", len(raw_df))\n",
    "#positive labels:\n",
    "print('# of positive labels:', len(raw_df.loc[raw_df['Class']==1]))\n",
    "#negative labels:\n",
    "print('# of negative labels:', len(raw_df.loc[raw_df['Class']==0]))\n"
   ]
  },
  {
   "cell_type": "markdown",
   "metadata": {
    "id": "La6L9rkGHZD7"
   },
   "source": [
    "#### **1.2 Cleaning and normalizing the data**\n",
    "The raw data has a few issues. We are not sure what the time column actually means so drop the Time column. The Amount column also has a wide range of values covered so we take the log of the Amount column to reduce its range."
   ]
  },
  {
   "cell_type": "code",
   "execution_count": 6,
   "metadata": {
    "id": "weojo62PHXHj"
   },
   "outputs": [],
   "source": [
    "cleaned_df = raw_df.copy()\n",
    "\n",
    "# You don't want the `Time` column.\n",
    "cleaned_df.pop('Time')\n",
    "\n",
    "# The `Amount` column covers a huge range. Convert to log-space.\n",
    "eps = 0.001 # 0 => 0.1¢\n",
    "cleaned_df['Log Ammount'] = np.log(cleaned_df.pop('Amount')+eps)\n"
   ]
  },
  {
   "cell_type": "markdown",
   "metadata": {
    "id": "xOftMoAtI_QU"
   },
   "source": [
    "**1.2.1 Split the dataset into development and test sets. Please set test size as 0.2 and random state as 42. Print the shape of development and test features**"
   ]
  },
  {
   "cell_type": "code",
   "execution_count": 7,
   "metadata": {
    "id": "Wn9dT8cXIvNi"
   },
   "outputs": [
    {
     "name": "stdout",
     "output_type": "stream",
     "text": [
      "development features shape: (227845, 29)\n",
      "test featrues shape: (56962, 29)\n"
     ]
    }
   ],
   "source": [
    "# from sklearn.model_selection import train_test_split # Import train_test_split function\n",
    "df_X = cleaned_df.drop(columns = ['Class'], axis = 1)\n",
    "df_y = cleaned_df['Class']\n",
    "\n",
    "## use stratified splitting since the data is imbalanced. (as also discussed on Ed, we can choose any splitting method)\n",
    "X_train, X_test, y_train, y_test = train_test_split(df_X, df_y,stratify = df_y,test_size=0.2, random_state=42)\n",
    "\n",
    "print('development features shape:', X_train.shape)\n",
    "print('test featrues shape:', X_test.shape)\n"
   ]
  },
  {
   "cell_type": "markdown",
   "metadata": {
    "id": "xkdb9wmeJKx8"
   },
   "source": [
    "**1.2.2 Normalize the features using Standard Scaler from Sklearn.**"
   ]
  },
  {
   "cell_type": "code",
   "execution_count": 8,
   "metadata": {
    "id": "6NQKlUcwJH1O"
   },
   "outputs": [],
   "source": [
    "# Your Code Here\n",
    "scaler = StandardScaler()\n",
    "X_train = scaler.fit_transform(X_train)   # Fit and transform scalar on X_train\n",
    "X_test = scaler.transform(X_test)         # Transform X_test\n"
   ]
  },
  {
   "cell_type": "markdown",
   "metadata": {
    "id": "xe_W1FPtJ3PQ"
   },
   "source": [
    "#### **1.3 Defining Model and Performance Metrics**"
   ]
  },
  {
   "cell_type": "code",
   "execution_count": 9,
   "metadata": {
    "id": "N9IfewuXJhQ9"
   },
   "outputs": [],
   "source": [
    "from sklearn.tree import DecisionTreeClassifier # Import Decision Tree Classifier\n",
    "from sklearn.metrics import average_precision_score\n",
    "from sklearn.model_selection import cross_val_score\n"
   ]
  },
  {
   "cell_type": "markdown",
   "metadata": {
    "id": "8kSY6RNPKKhu"
   },
   "source": [
    "**1.3.1 First, fit a default Decision tree classifier. ( use max_depth=10 and random_state=42). Print the AUC and Average Precision values of 5 Fold Cross Validation**"
   ]
  },
  {
   "cell_type": "code",
   "execution_count": 10,
   "metadata": {
    "id": "WUb3DJOHK2UA"
   },
   "outputs": [
    {
     "name": "stdout",
     "output_type": "stream",
     "text": [
      "Average precision score on development set(train): [0.88756328 0.88400873 0.81260522 0.77454358 0.82104149]\n",
      "AUC score on development set(train): [0.62653551 0.71014615 0.60399496 0.58692296 0.68112078]\n",
      "Avg of precision: 0.8359524571279693 Avg of auc: 0.641744070059615\n"
     ]
    }
   ],
   "source": [
    "# Your Code here\n",
    "clf = DecisionTreeClassifier(max_depth = 10, random_state = 42)\n",
    "\n",
    "# y_pred_train = clf.predict(X_train)\n",
    "scores = cross_validate(clf, X_train, y_train,scoring = ['average_precision','roc_auc'],cv = 5)\n",
    "\n",
    "precision_train = scores['test_roc_auc']\n",
    "auc_train = scores['test_average_precision']\n",
    "avg_precision_train = sum(precision_train)/len(precision_train)\n",
    "avg_auc_train = sum(auc_train)/len(auc_train)\n",
    "\n",
    "## we fit the model here so later we don't need to fit again when plotting confusion matrix\n",
    "## the same reason for the other three models below:\n",
    "clf = clf.fit(X_train,y_train)\n",
    "print('Average precision score on development set(train):', precision_train)\n",
    "print('AUC score on development set(train):',auc_train)\n",
    "print('Avg of precision:', avg_precision_train, 'Avg of auc:',avg_auc_train)\n"
   ]
  },
  {
   "cell_type": "markdown",
   "metadata": {},
   "source": [
    "**1.3.2 Perform random oversampling on the development dataset.**\n",
    "(Set random state as 42 when performing oversampling)"
   ]
  },
  {
   "cell_type": "code",
   "execution_count": 11,
   "metadata": {},
   "outputs": [],
   "source": [
    "from imblearn.over_sampling import RandomOverSampler \n",
    "from imblearn.over_sampling import RandomOverSampler \n"
   ]
  },
  {
   "cell_type": "code",
   "execution_count": 14,
   "metadata": {},
   "outputs": [
    {
     "name": "stdout",
     "output_type": "stream",
     "text": [
      "(227845, 29)\n",
      "(454902, 29)\n"
     ]
    },
    {
     "data": {
      "text/plain": [
       "0    227451\n",
       "1    227451\n",
       "Name: Class, dtype: int64"
      ]
     },
     "execution_count": 14,
     "metadata": {},
     "output_type": "execute_result"
    }
   ],
   "source": [
    "# !pip install -U imbalanced-learn \n",
    "ros = RandomOverSampler(random_state = 42)\n",
    "X_train_oversample, y_train_oversample = ros.fit_resample(X_train,y_train)\n",
    "print(X_train.shape)\n",
    "print(X_train_oversample.shape)\n",
    "\n",
    "y_train_oversample.value_counts()"
   ]
  },
  {
   "cell_type": "code",
   "execution_count": 15,
   "metadata": {},
   "outputs": [
    {
     "name": "stdout",
     "output_type": "stream",
     "text": [
      "# of positive labels: 227451\n",
      "# of negative labels: 227451\n"
     ]
    }
   ],
   "source": [
    "print('# of positive labels:', len(y_train_oversample.loc[y_train_oversample==1])) \n",
    "print('# of negative labels:', len(y_train_oversample[y_train_oversample==0]))\n"
   ]
  },
  {
   "cell_type": "markdown",
   "metadata": {},
   "source": [
    "**1.3.3 Repeat 1.3.1 using the dataset you created in the above step(1.3.2 Random oversampling).**"
   ]
  },
  {
   "cell_type": "code",
   "execution_count": 16,
   "metadata": {},
   "outputs": [
    {
     "name": "stdout",
     "output_type": "stream",
     "text": [
      "Average precision score on development set(train_oversample): [0.99886808 0.99929956 0.99900977 0.99926441 0.99932258]\n",
      "AUC score on development set(train_oversample): [0.99816396 0.99884446 0.99826911 0.9986672  0.99874564]\n",
      "Avg of precision_oversample: 0.9991528810903473 Avg of auc_oversample: 0.9985380738652964\n"
     ]
    }
   ],
   "source": [
    "# Your Code here\n",
    "clf_oversample = DecisionTreeClassifier(max_depth = 10, random_state = 42)\n",
    "\n",
    "scores = cross_validate(clf_oversample, X_train_oversample, y_train_oversample,scoring = ['average_precision','roc_auc'],cv = 5)\n",
    "\n",
    "precision_train_oversample = scores['test_roc_auc']\n",
    "auc_train_oversample = scores['test_average_precision']\n",
    "\n",
    "avg_precision_train_oversample = sum(precision_train_oversample)/len(precision_train_oversample)\n",
    "avg_auc_train_oversample = sum(auc_train_oversample)/len(auc_train_oversample)\n",
    "\n",
    "clf_oversample = clf_oversample.fit(X_train_oversample,y_train_oversample)\n",
    "\n",
    "print('Average precision score on development set(train_oversample):', precision_train_oversample)\n",
    "print('AUC score on development set(train_oversample):',auc_train_oversample)\n",
    "print('Avg of precision_oversample:', avg_precision_train_oversample, 'Avg of auc_oversample:',avg_auc_train_oversample)\n"
   ]
  },
  {
   "cell_type": "markdown",
   "metadata": {},
   "source": [
    "**1.3.4 Perform Random undersampling on the development dataset.**\n",
    "\n",
    "What many positive and negative labels after random undersampling?\n",
    "What is the shape of development dataset?\n",
    "(Set random state as 42 when performing undersampling)"
   ]
  },
  {
   "cell_type": "code",
   "execution_count": 17,
   "metadata": {},
   "outputs": [
    {
     "name": "stdout",
     "output_type": "stream",
     "text": [
      "(227845, 29)\n",
      "(788, 29)\n"
     ]
    },
    {
     "data": {
      "text/plain": [
       "0    394\n",
       "1    394\n",
       "Name: Class, dtype: int64"
      ]
     },
     "execution_count": 17,
     "metadata": {},
     "output_type": "execute_result"
    }
   ],
   "source": [
    "rus = RandomUnderSampler(random_state = 42)\n",
    "X_train_undersample, y_train_undersample = rus.fit_resample(X_train,y_train)\n",
    "print(X_train.shape)\n",
    "print(X_train_undersample.shape)\n",
    "\n",
    "y_train_undersample.value_counts()\n"
   ]
  },
  {
   "cell_type": "code",
   "execution_count": 18,
   "metadata": {},
   "outputs": [
    {
     "name": "stdout",
     "output_type": "stream",
     "text": [
      "# of positive labels: 394\n",
      "# of negative labels: 394\n"
     ]
    }
   ],
   "source": [
    "print('# of positive labels:', len(y_train_undersample.loc[y_train_undersample==1])) \n",
    "print('# of negative labels:', len(y_train_undersample[y_train_undersample==0]))\n"
   ]
  },
  {
   "cell_type": "markdown",
   "metadata": {},
   "source": [
    "**1.3.5 Repeat 1.3.1 using the dataset you created in the above step(1.3.4 Random undersampling). (max_depth=10 and random_state=42)**"
   ]
  },
  {
   "cell_type": "code",
   "execution_count": 19,
   "metadata": {},
   "outputs": [
    {
     "name": "stdout",
     "output_type": "stream",
     "text": [
      "Average precision score on development set(train_undersample): [0.93662875 0.94936709 0.9097901  0.92583577 0.92989289]\n",
      "AUC score on development set(train_undersample): [0.91336577 0.92661432 0.86678359 0.90629539 0.89830283]\n",
      "Avg of precision_undersample: 0.9303029182535673 Avg of auc_undersample: 0.9022723811037444\n"
     ]
    }
   ],
   "source": [
    "# Your Code here\n",
    "clf_undersample = DecisionTreeClassifier(max_depth = 10, random_state = 42)\n",
    "\n",
    "scores = cross_validate(clf_undersample, X_train_undersample, y_train_undersample,scoring = ['average_precision','roc_auc'],cv = 5)\n",
    "\n",
    "precision_train_undersample = scores['test_roc_auc']\n",
    "auc_train_undersample = scores['test_average_precision']\n",
    "\n",
    "avg_precision_train_undersample = sum(precision_train_undersample)/len(precision_train_undersample)\n",
    "avg_auc_train_undersample = sum(auc_train_undersample)/len(auc_train_undersample)\n",
    "\n",
    "clf_undersample = clf_undersample.fit(X_train_undersample,y_train_undersample)\n",
    "\n",
    "print('Average precision score on development set(train_undersample):', precision_train_undersample)\n",
    "print('AUC score on development set(train_undersample):',auc_train_undersample)\n",
    "print('Avg of precision_undersample:', avg_precision_train_undersample, 'Avg of auc_undersample:',avg_auc_train_undersample)\n"
   ]
  },
  {
   "cell_type": "markdown",
   "metadata": {},
   "source": [
    "\n",
    "**1.3.6 Perform Synthetic Minority Oversampling Technique(SMOTE) on the development dataset**\n",
    "\n",
    "What many positive and negative labels after performing SMOTE?\n",
    "What is the shape of development dataset? ( Set random state as 42 when performing SMOTE)"
   ]
  },
  {
   "cell_type": "code",
   "execution_count": 20,
   "metadata": {},
   "outputs": [
    {
     "name": "stdout",
     "output_type": "stream",
     "text": [
      "(227845, 29)\n",
      "(454902, 29)\n"
     ]
    },
    {
     "data": {
      "text/plain": [
       "0    227451\n",
       "1    227451\n",
       "Name: Class, dtype: int64"
      ]
     },
     "execution_count": 20,
     "metadata": {},
     "output_type": "execute_result"
    }
   ],
   "source": [
    "sm = SMOTE(random_state=42)\n",
    "X_train_sm, y_train_sm = sm.fit_resample(X_train,y_train)\n",
    "print(X_train.shape)\n",
    "print(X_train_sm.shape)\n",
    "\n",
    "y_train_sm.value_counts()\n"
   ]
  },
  {
   "cell_type": "code",
   "execution_count": 22,
   "metadata": {},
   "outputs": [
    {
     "name": "stdout",
     "output_type": "stream",
     "text": [
      "# of positive labels: 227451\n",
      "# of negative labels: 227451\n"
     ]
    }
   ],
   "source": [
    "print('# of positive labels:', len(y_train_sm.loc[y_train_sm==1])) \n",
    "print('# of negative labels:', len(y_train_sm[y_train_sm==0]))\n"
   ]
  },
  {
   "cell_type": "markdown",
   "metadata": {
    "id": "ZkVRBIM-Nn9z"
   },
   "source": [
    "**1.3.7 Repeat 1.3.1 using the dataset you created in the above step(1.3.6 SMOTE). (max_depth=10 and random_state=42)**"
   ]
  },
  {
   "cell_type": "code",
   "execution_count": 23,
   "metadata": {
    "id": "-JDjMP2kNnRJ"
   },
   "outputs": [
    {
     "name": "stdout",
     "output_type": "stream",
     "text": [
      "Average precision score on development set(train_sm): [0.99757923 0.99738426 0.99772842 0.9972463  0.99714931]\n",
      "AUC score on development set(train_sm): [0.99667622 0.99645425 0.99685462 0.99619248 0.99611009]\n",
      "Avg of precision_sm: 0.9974175030591891 Avg of auc_undersample: 0.9964575330041552\n"
     ]
    }
   ],
   "source": [
    "clf_sm = DecisionTreeClassifier(max_depth = 10, random_state = 42)\n",
    "\n",
    "\n",
    "# y_pred_train_sm = clf_sm.predict(X_train_sm)\n",
    "scores = cross_validate(clf_sm, X_train_sm, y_train_sm,scoring = ['average_precision','roc_auc'],cv = 5)\n",
    "\n",
    "precision_train_sm = scores['test_roc_auc']\n",
    "auc_train_sm = scores['test_average_precision']\n",
    "\n",
    "avg_precision_train_sm = sum(precision_train_sm)/len(precision_train_sm)\n",
    "avg_auc_train_sm = sum(auc_train_sm)/len(auc_train_sm)\n",
    "\n",
    "clf_sm = clf_sm.fit(X_train_sm,y_train_sm)\n",
    "\n",
    "print('Average precision score on development set(train_sm):', precision_train_sm)\n",
    "print('AUC score on development set(train_sm):',auc_train_sm)\n",
    "print('Avg of precision_sm:', avg_precision_train_sm, 'Avg of auc_undersample:',avg_auc_train_sm)\n"
   ]
  },
  {
   "cell_type": "markdown",
   "metadata": {
    "id": "3b5GAOgCN-pm"
   },
   "source": [
    "**1.3.8 Make predictions on the test set using the four models and report AUC values.**"
   ]
  },
  {
   "cell_type": "code",
   "execution_count": 24,
   "metadata": {
    "id": "IWIxud5bN9QT"
   },
   "outputs": [
    {
     "name": "stdout",
     "output_type": "stream",
     "text": [
      "AUC score on test set: 0.8774455054953889\n",
      "AUC score on test set(oversample): 0.8983306392337465\n",
      "AUC score on test set(undersample): 0.914460782906297\n",
      "AUC score on test set(sm): 0.9059496055034282\n"
     ]
    }
   ],
   "source": [
    "## default decision tree\n",
    "y_pred_test = clf.predict(X_test)\n",
    "auc_test = metrics.roc_auc_score(y_test,y_pred_test)\n",
    "print('AUC score on test set:',auc_test)\n",
    "\n",
    "## oversample\n",
    "y_pred_test_oversample = clf_oversample.predict(X_test)\n",
    "auc_test_oversample = metrics.roc_auc_score(y_test,y_pred_test_oversample)\n",
    "print('AUC score on test set(oversample):',auc_test_oversample)\n",
    "\n",
    "## undersample\n",
    "y_pred_test_undersample = clf_undersample.predict(X_test)\n",
    "auc_test_undersample = metrics.roc_auc_score(y_test,y_pred_test_undersample)\n",
    "print('AUC score on test set(undersample):',auc_test_undersample)\n",
    "\n",
    "## SMOTE\n",
    "y_pred_test_sm = clf_sm.predict(X_test)\n",
    "auc_test_sm = metrics.roc_auc_score(y_test,y_pred_test_sm)\n",
    "print('AUC score on test set(sm):',auc_test_sm)\n"
   ]
  },
  {
   "cell_type": "markdown",
   "metadata": {
    "id": "8jSslBq5OhNs"
   },
   "source": [
    "**1.3.9 Plot Confusion Matrices for all the four models on the test set.**"
   ]
  },
  {
   "cell_type": "code",
   "execution_count": 31,
   "metadata": {
    "id": "ZzWN-hZIOeRk"
   },
   "outputs": [
    {
     "name": "stderr",
     "output_type": "stream",
     "text": [
      "/Users/shijia_huang/opt/anaconda3/lib/python3.7/site-packages/sklearn/utils/deprecation.py:87: FutureWarning: Function plot_confusion_matrix is deprecated; Function `plot_confusion_matrix` is deprecated in 1.0 and will be removed in 1.2. Use one of the class methods: ConfusionMatrixDisplay.from_predictions or ConfusionMatrixDisplay.from_estimator.\n",
      "  warnings.warn(msg, category=FutureWarning)\n",
      "/Users/shijia_huang/opt/anaconda3/lib/python3.7/site-packages/sklearn/utils/deprecation.py:87: FutureWarning: Function plot_confusion_matrix is deprecated; Function `plot_confusion_matrix` is deprecated in 1.0 and will be removed in 1.2. Use one of the class methods: ConfusionMatrixDisplay.from_predictions or ConfusionMatrixDisplay.from_estimator.\n",
      "  warnings.warn(msg, category=FutureWarning)\n",
      "/Users/shijia_huang/opt/anaconda3/lib/python3.7/site-packages/sklearn/utils/deprecation.py:87: FutureWarning: Function plot_confusion_matrix is deprecated; Function `plot_confusion_matrix` is deprecated in 1.0 and will be removed in 1.2. Use one of the class methods: ConfusionMatrixDisplay.from_predictions or ConfusionMatrixDisplay.from_estimator.\n",
      "  warnings.warn(msg, category=FutureWarning)\n",
      "/Users/shijia_huang/opt/anaconda3/lib/python3.7/site-packages/sklearn/utils/deprecation.py:87: FutureWarning: Function plot_confusion_matrix is deprecated; Function `plot_confusion_matrix` is deprecated in 1.0 and will be removed in 1.2. Use one of the class methods: ConfusionMatrixDisplay.from_predictions or ConfusionMatrixDisplay.from_estimator.\n",
      "  warnings.warn(msg, category=FutureWarning)\n"
     ]
    },
    {
     "data": {
      "text/plain": [
       "<sklearn.metrics._plot.confusion_matrix.ConfusionMatrixDisplay at 0x7ff35932bf90>"
      ]
     },
     "execution_count": 31,
     "metadata": {},
     "output_type": "execute_result"
    },
    {
     "data": {
      "image/png": "[encoded data removed]",
      "text/plain": [
       "<Figure size 1296x720 with 8 Axes>"
      ]
     },
     "metadata": {
      "needs_background": "light"
     },
     "output_type": "display_data"
    }
   ],
   "source": [
    "import matplotlib.pyplot as plt ## reimport it since plt might have been used before\n",
    "fig, ax = plt.subplots(2,2,figsize=(18, 10))\n",
    "plot_confusion_matrix(clf,X_test, y_test,ax = ax[0,0])\n",
    "plot_confusion_matrix(clf_oversample,X_test, y_test,ax = ax[0,1])\n",
    "plot_confusion_matrix(clf_undersample,X_test, y_test,ax = ax[1,0])\n",
    "plot_confusion_matrix(clf_sm,X_test, y_test,ax = ax[1,1])\n",
    "ax[0,0].title.set_text('Default')\n",
    "ax[0,1].title.set_text('Oversample')\n",
    "ax[1,0].title.set_text('Undersample')\n",
    "ax[1,1].title.set_text('SMOTE')\n"
   ]
  },
  {
   "cell_type": "markdown",
   "metadata": {
    "id": "OqgVbbL0OwOh"
   },
   "source": [
    "**1.3.10 Plot ROC for all the four models on the test set in a single plot. Make sure you label axes and legend properly. Comment your results**"
   ]
  },
  {
   "cell_type": "code",
   "execution_count": 32,
   "metadata": {
    "id": "oslykiR-OsEj"
   },
   "outputs": [
    {
     "data": {
      "text/plain": [
       "<matplotlib.legend.Legend at 0x7ff39a20fe10>"
      ]
     },
     "execution_count": 32,
     "metadata": {},
     "output_type": "execute_result"
    },
    {
     "data": {
      "image/png": "[encoded data removed]",
      "text/plain": [
       "<Figure size 432x288 with 1 Axes>"
      ]
     },
     "metadata": {
      "needs_background": "light"
     },
     "output_type": "display_data"
    }
   ],
   "source": [
    "# fig, ax = plt.subplots(2,2,figsize=(18, 10));\n",
    "plt.figure(0).clf()\n",
    "\n",
    "## default\n",
    "y_pred_prob = clf.predict_proba(X_test)[:,1]\n",
    "fpr,tpr,thresholds = metrics.roc_curve(y_test, y_pred_prob,pos_label = 1)\n",
    "# disp = metrics.RocCurveDisplay(fpr = fpr, tpr = tpr)\n",
    "plt.plot(fpr, tpr, label = \"default\")\n",
    "\n",
    "## oversample\n",
    "y_pred_prob_oversample = clf_oversample.predict_proba(X_test)[:,1]\n",
    "fpr_oversample,tpr_oversample,thresholds_oversample = metrics.roc_curve(y_test, y_pred_prob_oversample,pos_label = 1)\n",
    "disp_oversample = metrics.RocCurveDisplay(fpr = fpr_oversample, tpr = tpr_oversample)\n",
    "plt.plot(fpr_oversample, tpr_oversample, label = \"oversample\")\n",
    "\n",
    "## undersample\n",
    "y_pred_prob_undersample = clf_undersample.predict_proba(X_test)[:,1]\n",
    "fpr_undersample,tpr_undersample,thresholds_undersample = metrics.roc_curve(y_test, y_pred_prob_undersample,pos_label = 1)\n",
    "disp_undersample = metrics.RocCurveDisplay(fpr = fpr_undersample, tpr = tpr_undersample)\n",
    "plt.plot(fpr_undersample, tpr_undersample, label = \"undersample\")\n",
    "\n",
    "## SMOTE\n",
    "y_pred_prob_sm = clf_sm.predict_proba(X_test)[:,1]\n",
    "fpr_sm,tpr_sm,thresholds = metrics.roc_curve(y_test, y_pred_prob_sm,pos_label = 1)\n",
    "disp_sm = metrics.RocCurveDisplay(fpr = fpr_sm, tpr = tpr_sm)\n",
    "plt.plot(fpr_sm, tpr_sm, label = \"SMOTE\")\n",
    "plt.xlabel('False Positive')\n",
    "plt.ylabel('True Positive')\n",
    "plt.legend()\n"
   ]
  },
  {
   "cell_type": "markdown",
   "metadata": {
    "id": "7yzjUR8kPEgh"
   },
   "source": [
    "**1.3.11 Train a balanced default Decision tree classifier. (use max_depth=10 and random_state=42). ( balance the class weights). Print the AUC and average precision on dev set**"
   ]
  },
  {
   "cell_type": "code",
   "execution_count": 27,
   "metadata": {},
   "outputs": [
    {
     "name": "stdout",
     "output_type": "stream",
     "text": [
      "Average precision score on development set(train_undersample): 0.10900876640241645\n",
      "AUC score on development set(train_undersample): 0.8986032194250801\n"
     ]
    }
   ],
   "source": [
    "# Your code here\n",
    "clf_balanced = DecisionTreeClassifier(max_depth = 10,random_state = 42, class_weight = 'balanced')\n",
    "clf_balanced= clf_balanced.fit(X_train,y_train)\n",
    "y_pred_train_balanced = clf_balanced.predict(X_test)\n",
    "\n",
    "precision_train_balanced= metrics.average_precision_score(y_test,y_pred_train_balanced)\n",
    "auc_train_balanced = metrics.roc_auc_score(y_test,y_pred_train_balanced)\n",
    "\n",
    "print('Average precision score on development set(train_undersample):', precision_train_balanced)\n",
    "print('AUC score on development set(train_undersample):',auc_train_balanced)"
   ]
  },
  {
   "cell_type": "markdown",
   "metadata": {
    "id": "C0HfvhYWQMNf"
   },
   "source": [
    "**1.3.12 Plot confusion matrix on test set using the above model**"
   ]
  },
  {
   "cell_type": "code",
   "execution_count": 37,
   "metadata": {
    "id": "PIK5MUdeQLfZ"
   },
   "outputs": [
    {
     "name": "stdout",
     "output_type": "stream",
     "text": [
      "Confusion Matrix for balanced model\n"
     ]
    },
    {
     "name": "stderr",
     "output_type": "stream",
     "text": [
      "/Users/shijia_huang/opt/anaconda3/lib/python3.7/site-packages/sklearn/utils/deprecation.py:87: FutureWarning: Function plot_confusion_matrix is deprecated; Function `plot_confusion_matrix` is deprecated in 1.0 and will be removed in 1.2. Use one of the class methods: ConfusionMatrixDisplay.from_predictions or ConfusionMatrixDisplay.from_estimator.\n",
      "  warnings.warn(msg, category=FutureWarning)\n"
     ]
    },
    {
     "data": {
      "image/png": "[encoded data removed]",
      "text/plain": [
       "<Figure size 432x288 with 2 Axes>"
      ]
     },
     "metadata": {
      "needs_background": "light"
     },
     "output_type": "display_data"
    }
   ],
   "source": [
    "# Your code here\n",
    "print('Confusion Matrix for balanced model:')\n",
    "plot_confusion_matrix(clf_balanced,X_test, y_test)\n"
   ]
  },
  {
   "cell_type": "markdown",
   "metadata": {},
   "source": [
    "The confusion matrix of a balanced tree shows that it performs better than the default decision tree model on False Negative rate. However, it has more False Positive. In this case, we care more about the Recall rate since a false negative(a fraud that is not detected) brings more cost to a credit card system. Therefore, we may need to take this issue in consideration when choosing models.  "
   ]
  }
 ],
 "metadata": {
  "colab": {
   "collapsed_sections": [],
   "provenance": []
  },
  "kernelspec": {
   "display_name": "Python 3",
   "language": "python",
   "name": "python3"
  },
  "language_info": {
   "codemirror_mode": {
    "name": "ipython",
    "version": 3
   },
   "file_extension": ".py",
   "mimetype": "text/x-python",
   "name": "python",
   "nbconvert_exporter": "python",
   "pygments_lexer": "ipython3",
   "version": "3.7.6"
  }
 },
 "nbformat": 4,
 "nbformat_minor": 1
}
